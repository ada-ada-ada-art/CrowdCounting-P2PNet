{
  "cells": [
    {
      "cell_type": "markdown",
      "metadata": {},
      "source": [
        "## Connect GDrive"
      ]
    },
    {
      "cell_type": "code",
      "execution_count": null,
      "metadata": {},
      "outputs": [],
      "source": [
        "from google.colab import drive\n",
        "drive.mount('/content/drive')"
      ]
    },
    {
      "cell_type": "markdown",
      "metadata": {
        "id": "vDbyvg1xLW87"
      },
      "source": [
        "## Install"
      ]
    },
    {
      "cell_type": "code",
      "execution_count": null,
      "metadata": {
        "colab": {
          "base_uri": "https://localhost:8080/"
        },
        "id": "AEiA47KxLLad",
        "outputId": "f7e1f1d1-61c5-48a7-db98-b8eb7e5d3e3e"
      },
      "outputs": [],
      "source": [
        "!git clone https://github.com/ada-ada-ada-art/CrowdCounting-P2PNet.git P2PNET_ROOT"
      ]
    },
    {
      "cell_type": "code",
      "execution_count": null,
      "metadata": {
        "colab": {
          "base_uri": "https://localhost:8080/",
          "height": 53
        },
        "id": "oBEk-0VALcOJ",
        "outputId": "8a47e619-0658-4b5b-f1f2-69d01bb415a9"
      },
      "outputs": [],
      "source": [
        "%cd P2PNET_ROOT\n",
        "%pwd"
      ]
    },
    {
      "cell_type": "code",
      "execution_count": null,
      "metadata": {
        "id": "VkfZVRTPLf5Q"
      },
      "outputs": [],
      "source": [
        "!pip install -r requirements.txt"
      ]
    },
    {
      "cell_type": "markdown",
      "metadata": {
        "id": "TQl6ZpCtLjjD"
      },
      "source": [
        "## Test"
      ]
    },
    {
      "cell_type": "code",
      "execution_count": null,
      "metadata": {
        "colab": {
          "base_uri": "https://localhost:8080/"
        },
        "id": "MZsEuq3rLi4j",
        "outputId": "78b11392-3183-420f-fb22-3571c135a952"
      },
      "outputs": [],
      "source": [
        "CUDA_VISIBLE_DEVICES=0\n",
        "!python run_test.py --weight_path ./weights/SHTechA.pth --output_dir ./logs/"
      ]
    }
  ],
  "metadata": {
    "accelerator": "GPU",
    "colab": {
      "gpuType": "T4",
      "provenance": []
    },
    "kernelspec": {
      "display_name": "Python 3",
      "name": "python3"
    },
    "language_info": {
      "name": "python"
    }
  },
  "nbformat": 4,
  "nbformat_minor": 0
}
